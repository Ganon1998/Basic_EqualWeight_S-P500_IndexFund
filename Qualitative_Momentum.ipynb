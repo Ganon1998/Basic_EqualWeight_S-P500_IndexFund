# based on stocks that have increased in price the most, this script will select the 50 stocks with the highest price momentum (gauged by takng current price / the historical prices from 1 year ago for ex). 
# After, we'll calculate recommended trades for an equal-weight portfolio
# there are many historic metrics: year5ChangePercent ... , year1ChangePercent, ... , month3ChangePercent, day30, day5, day1
#!pip install xlsxwriter

import numpy as np
import pandas as pd
import requests
import xlsxwriter
import math
from scipy import stats # calculate percentile scores
from secrets import IEX_CLOUD_API_TOKEN


def chunks(lst, n):
  for i in range (0, len(lst), n):
    yield lst[i:i + n]


# open stock csv
# sp500_companies.csv
stocks = pd.read_csv('sp_500_stocks.csv')


symbol_groups = list(chunks(stocks['Ticker'], 100))
symbol_strings = []
# list of 5 strings each wit length 100 and with commas (so that way we can take each string and append it to the api_call)
for i in range(0, len(symbol_groups)):
  symbol_strings.append(','.join(symbol_groups[i]))



# Solid Strat. Going to distinguish between "high quality" and "low quality" momentum

""" As per the Tutorial:

    High-quality momentum stocks show "slow and steady" outperformance over long periods of time
    Low-quality momentum stocks might not show any momentum for a long time, and then surge upwards.

The reason why high-quality momentum stocks are preferred is because low-quality momentum can often be cause by short-term news that is unlikely to be repeated in the future (such as an FDA approval for a biotechnology company).

To identify high-quality momentum, we're going to build a strategy that selects stocks from the highest percentiles of:

    1-month price returns
    3-month price returns
    6-month price returns
    1-year price returns 
"""

hqm_columns = [
    'Ticker', 
    'Price', 
    'Number of Shares to Buy', 
    'One-Year Price Return',
    'One-Year Return Percentile',
    'Six-Month Price Return',
    'Six-Month Return Percentile',
    'Three-Month Price Return',
    'Three-Month Return Percentile',
    'One-Month Price Return',
    'One-Month Return Percentile',
    'HQM Score'
]


# create dataframe with the HQM columns
hqm_dataframe = pd.DataFrame(columns=hqm_columns)

# make a batched api call
for symbol_string in symbol_strings:
  batch_api_call_url = f"https://sandbox.iexapis.com/stable/stock/market/batch/?types=quote,stats&symbols={symbol_string}&token={IEX_CLOUD_API_TOKEN}"
  data = requests.get(batch_api_call_url).json()

  for symbol in symbol_string.split(','):

    if symbol == 'HFC' or symbol == 'VIAC' or symbol == 'WLTW' or symbol == 'DISCA':
       continue

    # we're gonna have to parse things differently now
    # append our dataframe using pd.Series with the appropriate column values
    hqm_dataframe = hqm_dataframe.append(
        pd.Series([
            symbol,
            data[symbol]['quote']['latestPrice'],
            'N/A',
            data[symbol]['stats']['year1ChangePercent'],
            'N/A',
            data[symbol]['stats']['month6ChangePercent'],
            'N/A',
            data[symbol]['stats']['month3ChangePercent'],
            'N/A',
            data[symbol]['stats']['month1ChangePercent'],
            'N/A',
            'N/A'
            ], index = hqm_columns
        ),
        ignore_index=True
    )

time_periods = [
    'One-Year',
    'Six-Month',
    'Three-Month',
    'One-Month',
]



# add this here so that percentileofscore() doesn't run into NonType
hqm_dataframe = hqm_dataframe.infer_objects()

# calcualte percentileofScore() in each coulmn with '{Time period} Return Percentile' in it
for row in hqm_dataframe.index:
  for time_period in time_periods:
    # it takes the entire column and the entry from that column
    change_col = f'{time_period} Price Return'
    percentile_col = f'{time_period} Return Percentile'
    hqm_dataframe.loc[row, percentile_col] = stats.percentileofscore(hqm_dataframe[change_col],  hqm_dataframe.loc[row, change_col]) # takes the column and then the entry from row,col


# get HQM score for final column by averaging the time periods
from statistics import mean
for row in hqm_dataframe.index:
  momentum_percentiles = []
  for time_period in time_periods:
    percentile_col = f'{time_period} Return Percentile'
    momentum_percentiles.append(hqm_dataframe.loc[row, percentile_col])

  hqm_dataframe.loc[row, 'HQM Score'] = mean(momentum_percentiles)

# sort HQM Score and then get the top 50
hqm_dataframe.sort_values('HQM Score', ascending=False, inplace=True) 
hqm_dataframe = hqm_dataframe[:50]
hqm_dataframe.reset_index(inplace=True)


# Advise how many shares should be purchased now
val = 0.0
while True:
  portfolio_size = input('Type in the value of your portfolio: ')
  try:
    val = float(portfolio_size)
    break
  except ValueError:
    print('Please enter an integer')

position_size = val/len(hqm_dataframe.index)
for i in range(0, len(hqm_dataframe.index)):
  hqm_dataframe.loc[i, 'Number of Shares to Buy'] = math.floor(position_size / hqm_dataframe.loc[i, 'Price'])



# put it into excel format for non-programmers
writer = pd.ExcelWriter('momentum_strat.xlsx', engine='xlsxwriter')
hqm_dataframe.to_excel(writer, sheet_name="Momentum Strategy", index=False)



hqm_dataframe
