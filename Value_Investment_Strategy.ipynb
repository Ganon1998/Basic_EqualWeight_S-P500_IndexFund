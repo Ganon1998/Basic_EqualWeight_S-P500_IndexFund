# invest in stocks that are cheapest compared to common measures of earninga or assets
# this will pick the 50 stocks with the best value metrics, then recommend trades for an equal-weight portfolio of the 50 stocks


#!pip install xlsxwriter

import numpy as np
import pandas as pd
import requests
import xlsxwriter
import math
from scipy import stats # calculate percentile scores
from secrets import IEX_CLOUD_API_TOKEN


def chunks(lst, n):
  for i in range (0, len(lst), n):
    yield lst[i:i + n]


# open stock csv
# sp500_companies.csv
stocks = pd.read_csv('sp_500_stocks.csv')
mycolumns = ['Ticker', 'Stock Price', 'Market Cap', 'Number of Shares to Buy']

symbol_groups = list(chunks(stocks['Ticker'], 100))
symbol_strings = []
# list of 5 strings each wit length 100 and with commas (so that way we can take each string and append it to the api_call)
for i in range(0, len(symbol_groups)):
  symbol_strings.append(','.join(symbol_groups[i]))



""" 
As per the the tutorial:

Every valuation metric has certain flaws.

For example, just looking at the price-to-earnings ratio doesn't work well with stocks with negative earnings.

Similarly, stocks that buyback their own shares are difficult to value using the price-to-book ratio.

Investors typically use a composite basket of valuation metrics to build robust quantitative value strategies. In this section, we will filter for stocks with the lowest percentiles on the following metrics:

    Price-to-earnings ratio 
    Price-to-book ratio (stock price / shareholders equity per share)
    Price-to-sales ratio (stock price / revenue per share)
    Enterprise Value (which is the number to pay to buy company in full inlcuding debt and minority shareholding) divided by Earnings Before Interest, Taxes, Depreciation, and Amortization (EV/EBITDA)
    Enterprise Value divided by Gross Profit (EV/GP)

Some of these metrics aren't provided directly by the IEX Cloud API, and must be computed after pulling raw data. We'll start by calculating each data point from scratch.

"""


rv_columns = [
    'Ticker',
    'Price',
    'Number of Shares to Buy', 
    'Price-to-Earnings Ratio',
    'PE Percentile',
    'Price-to-Book Ratio',
    'PB Percentile',
    'Price-to-Sales Ratio',
    'PS Percentile',
    'EV/EBITDA',
    'EV/EBITDA Percentile',
    'EV/GP',
    'EV/GP Percentile',
    'RV Score'
]

# price to earnings = data[symbols]['quote']['peRatio']
# price to book = data[symbol]['advanced-stats']['priceToBook']
# price to sales = data[symbol]['advanced-stats']['priceToSales']
# EV / earning before interest, taxes, depreciation and amortixation = data[symbol]['advanced-stats']['enterpriseValue'] / data[symbol]['advanced-stats']['EBITDA']

rv_dataframe = pd.DataFrame(columns = rv_columns)

# get the data from the api
for symbol_string in symbol_strings:
    batch_api_call_url = f'https://sandbox.iexapis.com/stable/stock/market/batch?symbols={symbol_string}&types=quote,advanced-stats&token={IEX_CLOUD_API_TOKEN}' 
    data = requests.get(batch_api_call_url).json()
    for symbol in symbol_string.split(','):

        if symbol == 'HFC' or symbol == 'VIAC' or symbol == 'WLTW' or symbol == 'DISCA':
          continue

        enterprise_value = data[symbol]['advanced-stats']['enterpriseValue']
        ebitda = data[symbol]['advanced-stats']['EBITDA']
        gross_profit = data[symbol]['advanced-stats']['grossProfit']
        
        try:
            ev_to_ebitda = enterprise_value/ebitda
        except TypeError:
            ev_to_ebitda = np.NaN
        
        try:
            ev_to_gross_profit = enterprise_value/gross_profit
        except TypeError:
            ev_to_gross_profit = np.NaN
            
        rv_dataframe = rv_dataframe.append(
            pd.Series([
                symbol,
                data[symbol]['quote']['latestPrice'],
                'N/A',
                data[symbol]['quote']['peRatio'],
                'N/A',
                data[symbol]['advanced-stats']['priceToBook'],
                'N/A',
                data[symbol]['advanced-stats']['priceToSales'],
                'N/A',
                ev_to_ebitda,
                'N/A',
                ev_to_gross_profit,
                'N/A',
                'N/A'
        ],
        index = rv_columns),
            ignore_index = True
        )


# just in case there's missing data for the metrics if the IEX cloud can't provide them

# fill in missing value with the average value of that column
for column in ['Price-to-Earnings Ratio', 'Price-to-Book Ratio', 'Price-to-Sales Ratio', 'EV/EBITDA', 'EV/GP']:
  rv_dataframe[column].fillna(rv_dataframe[column].mean(), inplace=True)

rv_dataframe[rv_dataframe.isnull().any(axis=1)] # find any null where axis=1 looks at columns and not rows


# getting value percentiles
metrics = {
            'Price-to-Earnings Ratio': 'PE Percentile',
            'Price-to-Book Ratio':'PB Percentile',
            'Price-to-Sales Ratio': 'PS Percentile',
            'EV/EBITDA':'EV/EBITDA Percentile',
            'EV/GP':'EV/GP Percentile'
}

for metric in metrics.keys():
  for row in rv_dataframe.index:
    rv_dataframe.loc[row, metrics[metric]] = stats.percentileofscore(rv_dataframe[metric], rv_dataframe.loc[row, metric]) / 100


# getting RV score
from statistics import mean
for row in rv_dataframe.index:
    value_percentiles = []
    for metric in metrics.keys():
        value_percentiles.append(rv_dataframe.loc[row, metrics[metric]])
    rv_dataframe.loc[row, 'RV Score'] = mean(value_percentiles)


rv_dataframe.sort_values(by = 'RV Score', inplace = True)
rv_dataframe = rv_dataframe[:50]
rv_dataframe.reset_index(drop = True, inplace = True)


# Advise how many shares should be purchased now
val = 0.0
while True:
  portfolio_size = input('Type in the value of your portfolio: ')
  try:
    val = float(portfolio_size)
    break
  except ValueError:
    print('Please enter an integer')

position_size = val/len(rv_dataframe.index)
for i in range(0, len(rv_dataframe.index)):
  rv_dataframe.loc[i, 'Number of Shares to Buy'] = math.floor(position_size / rv_dataframe.loc[i, 'Price'])


rv_dataframe.sort_values('RV Score', ascending=False, inplace=True) 

# put into excel spreadsheet
writer = pd.ExcelWriter('value_strategy.xlsx', engine='xlsxwriter')
rv_dataframe.to_excel(writer, sheet_name='Value Strategy', index = False)

background_color = '#0a0a23'
font_color = '#ffffff'

string_template = writer.book.add_format(
        {
            'font_color': font_color,
            'bg_color': background_color,
            'border': 1
        }
    )

dollar_template = writer.book.add_format(
        {
            'num_format':'$0.00',
            'font_color': font_color,
            'bg_color': background_color,
            'border': 1
        }
    )

integer_template = writer.book.add_format(
        {
            'num_format':'0',
            'font_color': font_color,
            'bg_color': background_color,
            'border': 1
        }
    )

float_template = writer.book.add_format(
        {
            'num_format':'0.0',
            'font_color': font_color,
            'bg_color': background_color,
            'border': 1
        }
    )

percent_template = writer.book.add_format(
        {
            'num_format':'0.0%',
            'font_color': font_color,
            'bg_color': background_color,
            'border': 1
        }
    )




column_formats = {
                    'A': ['Ticker', string_template],
                    'B': ['Price', dollar_template],
                    'C': ['Number of Shares to Buy', integer_template],
                    'D': ['Price-to-Earnings Ratio', float_template],
                    'E': ['PE Percentile', percent_template],
                    'F': ['Price-to-Book Ratio', float_template],
                    'G': ['PB Percentile',percent_template],
                    'H': ['Price-to-Sales Ratio', float_template],
                    'I': ['PS Percentile', percent_template],
                    'J': ['EV/EBITDA', float_template],
                    'K': ['EV/EBITDA Percentile', percent_template],
                    'L': ['EV/GP', float_template],
                    'M': ['EV/GP Percentile', percent_template],
                    'N': ['RV Score', percent_template]
                 }

for column in column_formats.keys():
    writer.sheets['Value Strategy'].set_column(f'{column}:{column}', 25, column_formats[column][1])
    writer.sheets['Value Strategy'].write(f'{column}1', column_formats[column][0], column_formats[column][1])


writer.save()
